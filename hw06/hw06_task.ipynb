{
 "cells": [
  {
   "cell_type": "markdown",
   "metadata": {},
   "source": [
    "# Нейронные сети\n",
    "__Суммарное количество баллов: 10__\n",
    "\n",
    "__Решение отправлять на `ml.course.practice@gmail.com`__\n",
    "\n",
    "__Тема письма: `[ML][HW06] <ФИ>`, где вместо `<ФИ>` указаны фамилия и имя__\n",
    "\n",
    "Для начала вам предстоит реализовать свой собственный backpropagation и протестировать его на реальных данных, а затем научиться обучать нейронные сети при помощи библиотеки `PyTorch` и использовать это умение для классификации классического набора данных CIFAR10."
   ]
  },
  {
   "cell_type": "code",
   "execution_count": 104,
   "metadata": {},
   "outputs": [],
   "source": [
    "import numpy as np\n",
    "import copy\n",
    "from sklearn.datasets import make_blobs, make_moons"
   ]
  },
  {
   "cell_type": "markdown",
   "metadata": {},
   "source": [
    "### Задание 1 (3 балла)\n",
    "Нейронные сети состоят из слоев, поэтому для начала понадобится реализовать их. Пока нам понадобятся только три:\n",
    "\n",
    "`Linear` - полносвязный слой, в котором `y = Wx + b`, где `y` - выход, `x` - вход, `W` - матрица весов, а `b` - смещение. \n",
    "\n",
    "`ReLU` - слой, соответствующий функции активации `y = max(0, x)`.\n",
    "\n",
    "`Softmax` - слой, соответствующий функции активации [softmax](https://ru.wikipedia.org/wiki/Softmax)\n",
    "\n",
    "\n",
    "#### Методы\n",
    "`forward(X)` - возвращает предсказанные для `X`. `X` может быть как вектором, так и батчем\n",
    "\n",
    "`backward(d)` - считает градиент при помощи обратного распространения ошибки. Возвращает новое значение `d`\n",
    "\n",
    "`update(alpha)` - обновляет веса (если необходимо) с заданой скоростью обучения"
   ]
  },
  {
   "cell_type": "code",
   "execution_count": 142,
   "metadata": {},
   "outputs": [],
   "source": [
    "class Module:\n",
    "    def forward(self, x):\n",
    "        raise NotImplementedError()\n",
    "    \n",
    "    def backward(self, d):\n",
    "        raise NotImplementedError()\n",
    "        \n",
    "    def update(self, alpha):\n",
    "        pass\n",
    "        \n",
    "class Linear(Module):\n",
    "    def __init__(self, in_features, out_features):\n",
    "        pass\n",
    "    \n",
    "    def forward(self, x):\n",
    "        pass\n",
    "    \n",
    "    def backward(self, d):\n",
    "        pass\n",
    "        \n",
    "    def update(self, alpha):\n",
    "        pass\n",
    "        \n",
    "class ReLU(Module):\n",
    "    def __init__(self):\n",
    "        pass\n",
    "    \n",
    "    def forward(self, x):\n",
    "        pass\n",
    "        \n",
    "    def backward(self, d):\n",
    "        pass\n",
    "        \n",
    "class Softmax(Module):\n",
    "    def __init__(self):\n",
    "        pass\n",
    "        \n",
    "    def forward(self, x):\n",
    "        pass\n",
    "        \n",
    "    def backward(self, d):\n",
    "        pass"
   ]
  },
  {
   "cell_type": "markdown",
   "metadata": {},
   "source": [
    "### Задание 2 (2 балла)\n",
    "Теперь сделаем саму нейронную сеть.\n",
    "\n",
    "#### Методы\n",
    "`fit(X, y)` - обучает нейронную сеть заданное число эпох. В каждой эпохе необходимо использовать [cross-entropy loss](https://ml-cheatsheet.readthedocs.io/en/latest/loss_functions.html#cross-entropy) для обучения, а так же производить обновления не по одному элементу, а используя батчи.\n",
    "\n",
    "`predict_proba(X)` - предсказывает вероятности классов для элементов `X`\n",
    "\n",
    "#### Параметры конструктора\n",
    "`modules` - список, состоящий из ранее реализованных модулей и описывающий слои нейронной сети. В конец необходимо добавить `Softmax`\n",
    "\n",
    "`epochs` - количество эпох обучения\n",
    "\n",
    "`alpha` - скорость обучения"
   ]
  },
  {
   "cell_type": "code",
   "execution_count": 167,
   "metadata": {},
   "outputs": [],
   "source": [
    "class MLPClassifier:\n",
    "    def __init__(self, modules, epochs=40, alpha=0.01):\n",
    "        pass\n",
    "            \n",
    "    def fit(self, X, y):\n",
    "        pass\n",
    "        \n",
    "    def predict_proba(self, X):\n",
    "        pass\n",
    "        \n",
    "    def predict(self, X):\n",
    "        p = self.predict_proba(X)\n",
    "        return np.argmax(p, axis=1)"
   ]
  },
  {
   "cell_type": "code",
   "execution_count": 144,
   "metadata": {},
   "outputs": [],
   "source": [
    "p = MLPClassifier([\n",
    "    Linear(4, 64),\n",
    "    ReLU(),\n",
    "    Linear(64, 64),\n",
    "    ReLU(),\n",
    "    Linear(64, 2)\n",
    "])\n",
    "\n",
    "X = np.random.randn(50, 4)\n",
    "y = [(0 if x[0] > x[2]**2 or x[3]**3 > 0.5 else 1) for x in X]\n",
    "p.fit(X, y)"
   ]
  },
  {
   "cell_type": "markdown",
   "metadata": {},
   "source": [
    "### Задание 3 (2 балла)\n",
    "Протестируем наше решение на синтетических данных. Необходимо подобрать гиперпараметры, при которых качество полученных классификаторов будет достаточным.\n",
    "\n",
    "#### Оценка\n",
    "Accuracy на первом датасете больше 0.85 - +1 балл\n",
    "\n",
    "Accuracy на втором датасете больше 0.85 - +1 балл"
   ]
  },
  {
   "cell_type": "code",
   "execution_count": 185,
   "metadata": {},
   "outputs": [
    {
     "name": "stdout",
     "output_type": "stream",
     "text": [
      "Accuracy 0.9125\n"
     ]
    }
   ],
   "source": [
    "X, y = make_moons(400, noise=0.075)\n",
    "X_test, y_test = make_moons(400, noise=0.075)\n",
    "\n",
    "best_acc = 0\n",
    "for _ in range(25):\n",
    "    p = MLPClassifier()\n",
    "\n",
    "    p.fit(X, y)\n",
    "    best_acc = max(np.mean(p.predict(X_test) == y_test), best_acc)\n",
    "print(\"Accuracy\", best_acc)"
   ]
  },
  {
   "cell_type": "code",
   "execution_count": 186,
   "metadata": {},
   "outputs": [
    {
     "name": "stdout",
     "output_type": "stream",
     "text": [
      "Accuracy 0.9125\n"
     ]
    }
   ],
   "source": [
    "X, y = make_blobs(400, 2, centers=[[0, 0], [2.5, 2.5], [-2.5, 3]])\n",
    "X_test, y_test = make_blobs(400, 2, centers=[[0, 0], [2.5, 2.5], [-2.5, 3]])\n",
    "best_acc = 0\n",
    "for _ in range(25):\n",
    "    p = MLPClassifier()\n",
    "\n",
    "    p.fit(X, y)\n",
    "    best_acc = max(np.mean(p.predict(X_test) == y_test), best_acc)\n",
    "print(\"Accuracy\", best_acc)"
   ]
  },
  {
   "cell_type": "markdown",
   "metadata": {},
   "source": [
    "## PyTorch\n",
    "\n",
    "Для выполнения следующего задания понадобится PyTorch. [Инструкция по установке](https://pytorch.org/get-started/locally/)\n",
    "\n",
    "Если у вас нет GPU, то можно использовать [Google Colab](https://colab.research.google.com/)"
   ]
  },
  {
   "cell_type": "code",
   "execution_count": 120,
   "metadata": {},
   "outputs": [],
   "source": [
    "from torchvision import datasets, transforms\n",
    "from torch.utils.data import DataLoader\n",
    "import torch\n",
    "from tqdm import tqdm\n",
    "from torch import nn\n",
    "import torch.nn.functional as F\n",
    "import matplotlib.pyplot as plt"
   ]
  },
  {
   "cell_type": "code",
   "execution_count": 76,
   "metadata": {},
   "outputs": [
    {
     "name": "stdout",
     "output_type": "stream",
     "text": [
      "Files already downloaded and verified\n",
      "Files already downloaded and verified\n"
     ]
    }
   ],
   "source": [
    "device = torch.device(\"cuda\" if torch.cuda.is_available() else \"cpu\")\n",
    "\n",
    "t = transforms.ToTensor()\n",
    "\n",
    "cifar_train = datasets.CIFAR10(\"/datasets/cifar10\", download=True, train=True, transform=t)\n",
    "train_loader = DataLoader(cifar_train, batch_size=1024, shuffle=True, pin_memory=torch.cuda.is_available())\n",
    "cifar_test = datasets.CIFAR10(\"/datasets/cifar10\", download=True, train=False, transform=t)\n",
    "test_loader = DataLoader(cifar_test, batch_size=1024, shuffle=False, pin_memory=torch.cuda.is_available())"
   ]
  },
  {
   "cell_type": "markdown",
   "metadata": {},
   "source": [
    "### Задание 4 (3 балла)\n",
    "А теперь поработам с настоящими нейронными сетями и настоящими данными. Необходимо реализовать сверточную нейронную сеть, которая будет классифицировать изображения из датасета CIFAR10. Имплементируйте класс `Model` и функцию `calculate_loss`. \n",
    "\n",
    "Обратите внимание, что `Model` должна считать в конце `softmax`, т.к. мы решаем задачу классификации. Соответствеено, функция `calculate_loss` считает cross-entropy.\n",
    "\n",
    "Для успешного выполнения задания необходимо, чтобы `accuracy`, `mean precision` и `mean recall` были больше 0.5\n",
    "\n",
    "__Можно пользоваться всем содержимым библиотеки PyTorch.__"
   ]
  },
  {
   "cell_type": "code",
   "execution_count": 98,
   "metadata": {},
   "outputs": [],
   "source": [
    "class Model(nn.Module):\n",
    "    def __init__(self):\n",
    "        super().__init__()\n",
    "        \n",
    "    def forward(self, x):\n",
    "        pass\n",
    "        \n",
    "def calculate_loss(X, y, model):\n",
    "    pass"
   ]
  },
  {
   "cell_type": "markdown",
   "metadata": {},
   "source": [
    "Теперь обучим нашу модель. Для этого используем ранее созданные batch loader'ы."
   ]
  },
  {
   "cell_type": "code",
   "execution_count": 77,
   "metadata": {},
   "outputs": [],
   "source": [
    "def train(model, epochs=100):\n",
    "    optimizer = torch.optim.Adam(model.parameters())\n",
    "    train_losses = []\n",
    "    test_losses = []\n",
    "    for i in range(epochs):\n",
    "        #Train\n",
    "        loss_mean = 0\n",
    "        elements = 0\n",
    "        for X, y in iter(train_loader):\n",
    "            X = X.to(device)\n",
    "            y = y.to(device)\n",
    "            loss = calculate_loss(X, y, model)\n",
    "            optimizer.zero_grad()\n",
    "            loss.backward()\n",
    "            optimizer.step()\n",
    "            loss_mean += loss.item() * len(X)\n",
    "            elements += len(X)\n",
    "        train_losses.append(loss_mean / elements)\n",
    "        #Test\n",
    "        loss_mean = 0 \n",
    "        elements = 0\n",
    "        for X, y in iter(test_loader):\n",
    "            X = X.to(device)\n",
    "            y = y.to(device)\n",
    "            loss = calculate_loss(X, y, model)\n",
    "            loss_mean += loss.item() * len(X)\n",
    "            elements += len(X)\n",
    "        test_losses.append(loss_mean / elements)\n",
    "        print(\"Epoch\", i, \"| Train loss\", train_losses[-1], \"| Test loss\", test_losses[-1])\n",
    "    return train_losses, test_losses"
   ]
  },
  {
   "cell_type": "code",
   "execution_count": 101,
   "metadata": {
    "scrolled": true
   },
   "outputs": [
    {
     "name": "stdout",
     "output_type": "stream",
     "text": [
      "Epoch 0 | Train loss 2.2292297332000732 | Test loss 2.149941352081299\n",
      "Epoch 1 | Train loss 2.122715216369629 | Test loss 2.0939302814483645\n",
      "Epoch 2 | Train loss 2.0884076861572267 | Test loss 2.078115378189087\n",
      "Epoch 3 | Train loss 2.07821021194458 | Test loss 2.0765057807922362\n",
      "Epoch 4 | Train loss 2.06793357093811 | Test loss 2.0650660312652587\n",
      "Epoch 5 | Train loss 2.0629736500549316 | Test loss 2.0546842651367188\n",
      "Epoch 6 | Train loss 2.0554406124114992 | Test loss 2.0537492122650147\n",
      "Epoch 7 | Train loss 2.048790591430664 | Test loss 2.050680810546875\n",
      "Epoch 8 | Train loss 2.0458059464263916 | Test loss 2.0568064170837403\n",
      "Epoch 9 | Train loss 2.043578236618042 | Test loss 2.041243942260742\n",
      "Epoch 10 | Train loss 2.036650228652954 | Test loss 2.0394827228546144\n",
      "Epoch 11 | Train loss 2.0312407144927977 | Test loss 2.036195610809326\n",
      "Epoch 12 | Train loss 2.0295346686553954 | Test loss 2.0343320095062256\n",
      "Epoch 13 | Train loss 2.027185685195923 | Test loss 2.0283010162353516\n",
      "Epoch 14 | Train loss 2.0203911910247805 | Test loss 2.024905877685547\n",
      "Epoch 15 | Train loss 2.0204982124328614 | Test loss 2.0228141639709474\n",
      "Epoch 16 | Train loss 2.016007442398071 | Test loss 2.020509419631958\n",
      "Epoch 17 | Train loss 2.0099523599243163 | Test loss 2.0183684116363527\n",
      "Epoch 18 | Train loss 2.0086024523925783 | Test loss 2.010672760009766\n",
      "Epoch 19 | Train loss 2.003379957046509 | Test loss 2.0205795219421385\n",
      "Epoch 20 | Train loss 1.999790474433899 | Test loss 2.014485626602173\n",
      "Epoch 21 | Train loss 1.9958294456863404 | Test loss 1.995548604774475\n",
      "Epoch 22 | Train loss 1.9877490650558471 | Test loss 1.992307174873352\n",
      "Epoch 23 | Train loss 1.9871320072555543 | Test loss 1.9996304481506348\n",
      "Epoch 24 | Train loss 1.9830363372421265 | Test loss 1.990308797454834\n",
      "Epoch 25 | Train loss 1.9792158783721925 | Test loss 1.9927584548950195\n",
      "Epoch 26 | Train loss 1.9686231416702271 | Test loss 1.9744347919464111\n",
      "Epoch 27 | Train loss 1.9593663592910766 | Test loss 1.9693036262512207\n",
      "Epoch 28 | Train loss 1.9532896004867553 | Test loss 1.9652840572357178\n",
      "Epoch 29 | Train loss 1.9521916692352295 | Test loss 1.9648975858688353\n",
      "Epoch 30 | Train loss 1.9479430331802368 | Test loss 1.958760291671753\n",
      "Epoch 31 | Train loss 1.9456705902862548 | Test loss 1.9538489603042604\n",
      "Epoch 32 | Train loss 1.938970908088684 | Test loss 1.9505069835662843\n",
      "Epoch 33 | Train loss 1.9351810694503784 | Test loss 1.9528343296051025\n",
      "Epoch 34 | Train loss 1.933868605079651 | Test loss 1.9551675777435302\n",
      "Epoch 35 | Train loss 1.928317611732483 | Test loss 1.9469356790542602\n",
      "Epoch 36 | Train loss 1.9291488302230835 | Test loss 1.9446254796981812\n",
      "Epoch 37 | Train loss 1.9235753597259522 | Test loss 1.9437470178604126\n",
      "Epoch 38 | Train loss 1.9249165102767944 | Test loss 1.9446372098922728\n",
      "Epoch 39 | Train loss 1.9207085552597045 | Test loss 1.9498604845046996\n",
      "Epoch 40 | Train loss 1.9179621674728393 | Test loss 1.938060154914856\n",
      "Epoch 41 | Train loss 1.9152635430908203 | Test loss 1.9359796588897704\n",
      "Epoch 42 | Train loss 1.910997929611206 | Test loss 1.9366068765640259\n",
      "Epoch 43 | Train loss 1.9071913792419433 | Test loss 1.9301777570724488\n",
      "Epoch 44 | Train loss 1.9054169816970825 | Test loss 1.93013948097229\n",
      "Epoch 45 | Train loss 1.9074201440048217 | Test loss 1.9320582891464233\n",
      "Epoch 46 | Train loss 1.9029616108703613 | Test loss 1.9279745948791505\n",
      "Epoch 47 | Train loss 1.9024426197433473 | Test loss 1.9341315277099609\n",
      "Epoch 48 | Train loss 1.8973894362258912 | Test loss 1.9285981197357178\n",
      "Epoch 49 | Train loss 1.8998503388214112 | Test loss 1.9252897737503052\n",
      "Epoch 50 | Train loss 1.8962954477691651 | Test loss 1.9236615560531616\n",
      "Epoch 51 | Train loss 1.8925577170944214 | Test loss 1.9227023815155029\n",
      "Epoch 52 | Train loss 1.8910531687164307 | Test loss 1.9195335050582887\n",
      "Epoch 53 | Train loss 1.8921425009918214 | Test loss 1.9174637580871583\n",
      "Epoch 54 | Train loss 1.8841414614486693 | Test loss 1.9163724214553832\n",
      "Epoch 55 | Train loss 1.8868765615081786 | Test loss 1.9209098484039306\n",
      "Epoch 56 | Train loss 1.8817181815719604 | Test loss 1.913896217918396\n",
      "Epoch 57 | Train loss 1.8815006913375854 | Test loss 1.9236735580444335\n",
      "Epoch 58 | Train loss 1.8853897589874267 | Test loss 1.9162294689178467\n",
      "Epoch 59 | Train loss 1.8776863428497315 | Test loss 1.9188569690704345\n",
      "Epoch 60 | Train loss 1.8730728129577636 | Test loss 1.9076598039627075\n",
      "Epoch 61 | Train loss 1.8735674088668823 | Test loss 1.9112239294052125\n",
      "Epoch 62 | Train loss 1.874197990951538 | Test loss 1.9087841217041015\n",
      "Epoch 63 | Train loss 1.8701924689483642 | Test loss 1.9088199373245238\n",
      "Epoch 64 | Train loss 1.867274557762146 | Test loss 1.9067292819976807\n",
      "Epoch 65 | Train loss 1.8634525187301636 | Test loss 1.9051266395568847\n",
      "Epoch 66 | Train loss 1.8632205755233764 | Test loss 1.907932433128357\n",
      "Epoch 67 | Train loss 1.8651512454223633 | Test loss 1.9051788619995118\n",
      "Epoch 68 | Train loss 1.863773102722168 | Test loss 1.9022279397964477\n",
      "Epoch 69 | Train loss 1.8591752825164796 | Test loss 1.8993832489013671\n",
      "Epoch 70 | Train loss 1.8589968674850463 | Test loss 1.9019309940338134\n",
      "Epoch 71 | Train loss 1.867304546546936 | Test loss 1.9084016258239747\n",
      "Epoch 72 | Train loss 1.8569816117477418 | Test loss 1.8979842510223388\n",
      "Epoch 73 | Train loss 1.854648144607544 | Test loss 1.900093905067444\n",
      "Epoch 74 | Train loss 1.8553827480316163 | Test loss 1.9061205488204955\n",
      "Epoch 75 | Train loss 1.857103440551758 | Test loss 1.896160362625122\n",
      "Epoch 76 | Train loss 1.8533098002243042 | Test loss 1.9067842199325562\n",
      "Epoch 77 | Train loss 1.8519007341384888 | Test loss 1.897641965484619\n",
      "Epoch 78 | Train loss 1.850235616836548 | Test loss 1.895857026863098\n",
      "Epoch 79 | Train loss 1.8494081148147583 | Test loss 1.8910035652160644\n",
      "Epoch 80 | Train loss 1.848575048751831 | Test loss 1.8941805639266969\n",
      "Epoch 81 | Train loss 1.8464078066635132 | Test loss 1.8891245161056518\n",
      "Epoch 82 | Train loss 1.8464323545074464 | Test loss 1.8916746505737305\n",
      "Epoch 83 | Train loss 1.8423115229797364 | Test loss 1.8921290021896362\n",
      "Epoch 84 | Train loss 1.8410063134002685 | Test loss 1.900139793586731\n",
      "Epoch 85 | Train loss 1.8449295132827759 | Test loss 1.8899835161209106\n",
      "Epoch 86 | Train loss 1.8388247567749023 | Test loss 1.8890834356307984\n",
      "Epoch 87 | Train loss 1.8392355153656006 | Test loss 1.8991029300689697\n",
      "Epoch 88 | Train loss 1.8393266096115113 | Test loss 1.8854683315277099\n",
      "Epoch 89 | Train loss 1.8372678609085082 | Test loss 1.8870541460037231\n",
      "Epoch 90 | Train loss 1.8403515644454955 | Test loss 1.8909156219482421\n",
      "Epoch 91 | Train loss 1.835437280807495 | Test loss 1.8858700229644776\n",
      "Epoch 92 | Train loss 1.8332581658935547 | Test loss 1.888295041656494\n",
      "Epoch 93 | Train loss 1.8325732783126831 | Test loss 1.8880999837875365\n",
      "Epoch 94 | Train loss 1.8314902827453614 | Test loss 1.8855824445724487\n",
      "Epoch 95 | Train loss 1.8359944752120971 | Test loss 1.8917502342224122\n",
      "Epoch 96 | Train loss 1.8332963821411132 | Test loss 1.883298391342163\n",
      "Epoch 97 | Train loss 1.8266947874832153 | Test loss 1.8877942346572876\n",
      "Epoch 98 | Train loss 1.8317757830047607 | Test loss 1.8879003631591798\n",
      "Epoch 99 | Train loss 1.8299188176727295 | Test loss 1.883079390335083\n"
     ]
    }
   ],
   "source": [
    "model = Model().to(device)\n",
    "train_l, test_l = train(model)"
   ]
  },
  {
   "cell_type": "markdown",
   "metadata": {},
   "source": [
    "Построим график функции потерь"
   ]
  },
  {
   "cell_type": "code",
   "execution_count": 102,
   "metadata": {},
   "outputs": [
    {
     "data": {
      "image/png": "[encoded data removed]",
      "text/plain": [
       "<Figure size 864x432 with 1 Axes>"
      ]
     },
     "metadata": {
      "needs_background": "light"
     },
     "output_type": "display_data"
    }
   ],
   "source": [
    "plt.figure(figsize=(12, 6))\n",
    "plt.plot(range(len(train_l)), train_l, label=\"train\")\n",
    "plt.plot(range(len(test_l)), test_l, label=\"test\")\n",
    "plt.xlabel(\"Epoch\")\n",
    "plt.ylabel(\"Loss\")\n",
    "plt.legend()\n",
    "plt.tight_layout()\n",
    "plt.show()"
   ]
  },
  {
   "cell_type": "markdown",
   "metadata": {},
   "source": [
    "И, наконец, посчитаем метрики"
   ]
  },
  {
   "cell_type": "code",
   "execution_count": 188,
   "metadata": {},
   "outputs": [
    {
     "name": "stdout",
     "output_type": "stream",
     "text": [
      "Overall accuracy 0.5753\n",
      "Precision [0.63374486 0.74829932 0.50492611 0.37551696 0.55428571 0.45979186\n",
      " 0.60429722 0.6174812  0.68054211 0.61005199]\n",
      "Recall [0.616 0.66  0.41  0.454 0.388 0.486 0.675 0.657 0.703 0.704]\n",
      "Mean Precision 0.5788937349424892\n",
      "Mean Recall 0.5753\n"
     ]
    }
   ],
   "source": [
    "true_positive = np.zeros(10)\n",
    "true_negative = np.zeros(10)\n",
    "false_positive = np.zeros(10)\n",
    "false_negative = np.zeros(10)\n",
    "accuracy = 0\n",
    "ctn = 0\n",
    "for X, y in iter(test_loader):\n",
    "    X = X.to(device)\n",
    "    y = y.to(device)\n",
    "    with torch.no_grad():\n",
    "        y_pred = model(X).max(dim=1)[1]\n",
    "    for i in range(10):\n",
    "        for pred, real in zip(y_pred, y):\n",
    "            if real == i:\n",
    "                if pred == real:\n",
    "                    true_positive[i] += 1\n",
    "                else:\n",
    "                    false_negative[i] += 1\n",
    "            else:\n",
    "                if pred == i:\n",
    "                    false_positive[i] += 1\n",
    "                else:\n",
    "                    true_negative[i] += 1\n",
    "            \n",
    "    accuracy += torch.sum(y_pred == y).item()\n",
    "    ctn += len(y)\n",
    "print(\"Overall accuracy\", accuracy / ctn)\n",
    "print(\"Precision\", true_positive / (true_positive + false_positive))\n",
    "print(\"Recall\", true_positive / (true_positive + false_negative))\n",
    "print(\"Mean Precision\", np.mean(true_positive / (true_positive + false_positive)))\n",
    "print(\"Mean Recall\", np.mean(true_positive / (true_positive + false_negative)))"
   ]
  },
  {
   "cell_type": "code",
   "execution_count": null,
   "metadata": {},
   "outputs": [],
   "source": []
  }
 ],
 "metadata": {
  "kernelspec": {
   "display_name": "Python 3",
   "language": "python",
   "name": "python3"
  },
  "language_info": {
   "codemirror_mode": {
    "name": "ipython",
    "version": 3
   },
   "file_extension": ".py",
   "mimetype": "text/x-python",
   "name": "python",
   "nbconvert_exporter": "python",
   "pygments_lexer": "ipython3",
   "version": "3.7.3"
  }
 },
 "nbformat": 4,
 "nbformat_minor": 2
}
