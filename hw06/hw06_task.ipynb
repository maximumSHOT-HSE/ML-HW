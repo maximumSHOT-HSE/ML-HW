{
 "cells": [
  {
   "cell_type": "markdown",
   "metadata": {},
   "source": [
    "# Нейронные сети\n",
    "__Суммарное количество баллов: 10__\n",
    "\n",
    "__Решение отправлять на `ml.course.practice@gmail.com`__\n",
    "\n",
    "__Тема письма: `[ML][HW06] <ФИ>`, где вместо `<ФИ>` указаны фамилия и имя__\n",
    "\n",
    "Для начала вам предстоит реализовать свой собственный backpropagation и протестировать его на реальных данных, а затем научиться обучать нейронные сети при помощи библиотеки `PyTorch` и использовать это умение для классификации классического набора данных CIFAR10."
   ]
  },
  {
   "cell_type": "code",
   "execution_count": 1,
   "metadata": {},
   "outputs": [],
   "source": [
    "import numpy as np\n",
    "import copy\n",
    "from sklearn.datasets import make_blobs, make_moons\n",
    "import scipy.special\n",
    "import typing\n",
    "import math"
   ]
  },
  {
   "cell_type": "markdown",
   "metadata": {},
   "source": [
    "### Задание 1 (3 балла)\n",
    "Нейронные сети состоят из слоев, поэтому для начала понадобится реализовать их. Пока нам понадобятся только три:\n",
    "\n",
    "`Linear` - полносвязный слой, в котором `y = Wx + b`, где `y` - выход, `x` - вход, `W` - матрица весов, а `b` - смещение. \n",
    "\n",
    "`ReLU` - слой, соответствующий функции активации `y = max(0, x)`.\n",
    "\n",
    "`Softmax` - слой, соответствующий функции активации [softmax](https://ru.wikipedia.org/wiki/Softmax)\n",
    "\n",
    "\n",
    "#### Методы\n",
    "`forward(X)` - возвращает предсказание для `X`. `X` может быть как вектором, так и батчем\n",
    "\n",
    "`backward(d)` - считает градиент при помощи обратного распространения ошибки. Возвращает новое значение `d`\n",
    "\n",
    "`update(alpha)` - обновляет веса (если необходимо) с заданой скоростью обучения"
   ]
  },
  {
   "cell_type": "code",
   "execution_count": 16,
   "metadata": {},
   "outputs": [],
   "source": [
    "class Module:\n",
    "    def forward(self, x):\n",
    "        raise NotImplementedError()\n",
    "\n",
    "    def backward(self, d):\n",
    "        raise NotImplementedError()\n",
    "\n",
    "    def update(self, alpha):\n",
    "        pass\n",
    "\n",
    "\n",
    "class Linear(Module):\n",
    "    def __init__(self, in_features, out_features):\n",
    "        self.W = np.random.uniform(-1, 1, size=(out_features, in_features + 1))\n",
    "        self.x = None\n",
    "        self.d = None\n",
    "\n",
    "    def forward(self, X):\n",
    "        self.x = copy.deepcopy(X)\n",
    "        self.x = self.x if len(self.x.shape) > 1 else self.x.reshape(-1, 1)\n",
    "        self.x = np.vstack((self.x, np.ones((1, self.x.shape[1]))))\n",
    "        return self.W.dot(self.x)\n",
    "\n",
    "    def backward(self, d):\n",
    "        self.d = copy.deepcopy(d)\n",
    "        return (self.d.T.dot(self.W).T)[:-1]\n",
    "\n",
    "    def update(self, alpha):\n",
    "        self.W -= alpha * (self.d.dot(self.x.T))\n",
    "\n",
    "\n",
    "class ReLU(Module):\n",
    "    def __init__(self):\n",
    "        self.x = None\n",
    "        self.y = None\n",
    "\n",
    "    def forward(self, x):\n",
    "        self.x = copy.deepcopy(x)\n",
    "        self.x = self.x if len(self.x.shape) > 1 else self.x.reshape(-1, 1)\n",
    "        self.y = np.maximum(self.x, 0)\n",
    "        return copy.deepcopy(self.y)\n",
    "\n",
    "    def backward(self, d):\n",
    "        pd = copy.deepcopy(self.x)\n",
    "        pd[pd >= 0] = 1\n",
    "        pd[pd < 0] = 0\n",
    "        return pd * d\n",
    "\n",
    "class Softmax(Module):\n",
    "    def __init__(self):\n",
    "        self.x = None\n",
    "        self.y = None\n",
    "\n",
    "    def forward(self, x):\n",
    "        self.x = copy.deepcopy(x)\n",
    "        self.x = self.x if len(self.x.shape) > 1 else self.x.reshape(-1, 1)\n",
    "        self.y = np.exp(x) / np.sum(np.exp(x), axis=0)\n",
    "        return copy.deepcopy(self.y)\n",
    "\n",
    "    def backward(self, d):\n",
    "        sc = self.y.T.dot(d)\n",
    "        sc = sc[np.arange(len(sc)), np.arange(len(sc))].reshape(1, -1)\n",
    "        sc = np.repeat(sc, len(self.y), axis=0)\n",
    "        return self.y * (d - sc)"
   ]
  },
  {
   "cell_type": "markdown",
   "metadata": {},
   "source": [
    "### Задание 2 (2 балла)\n",
    "Теперь сделаем саму нейронную сеть.\n",
    "\n",
    "#### Методы\n",
    "`fit(X, y)` - обучает нейронную сеть заданное число эпох. В каждой эпохе необходимо использовать [cross-entropy loss](https://ml-cheatsheet.readthedocs.io/en/latest/loss_functions.html#cross-entropy) для обучения, а так же производить обновления не по одному элементу, а используя батчи.\n",
    "\n",
    "`predict_proba(X)` - предсказывает вероятности классов для элементов `X`\n",
    "\n",
    "#### Параметры конструктора\n",
    "`modules` - список, состоящий из ранее реализованных модулей и описывающий слои нейронной сети. В конец необходимо добавить `Softmax`\n",
    "\n",
    "`epochs` - количество эпох обучения\n",
    "\n",
    "`alpha` - скорость обучения"
   ]
  },
  {
   "cell_type": "code",
   "execution_count": 12,
   "metadata": {},
   "outputs": [],
   "source": [
    "class MLPClassifier:\n",
    "\n",
    "    def __init__(self, modules: typing.List[Module], epochs=40, alpha=0.01):\n",
    "        self.modules = modules + [Softmax()]\n",
    "        self.epochs = epochs\n",
    "        self.alpha = alpha\n",
    "\n",
    "    def forward(self, curx):\n",
    "        for layer in self.modules:\n",
    "            curx = layer.forward(curx)\n",
    "        return curx\n",
    "        \n",
    "    def backward(self, curd):\n",
    "        for layer in reversed(self.modules):\n",
    "            curd = layer.backward(curd)\n",
    "            layer.update(self.alpha)\n",
    "        return curd\n",
    "        \n",
    "    def epoch(self):\n",
    "        curx = self.forward(copy.deepcopy(self.X))\n",
    "        curd = np.ones_like(curx)\n",
    "        curd[self.y, np.arange(len(self.y))] = 0\n",
    "        curd = -(1 - curd) / curx\n",
    "        curd = np.array(curd)\n",
    "        self.backward(curd)\n",
    "\n",
    "    def fit(self, X, y):\n",
    "        self.X = copy.deepcopy(X)\n",
    "        if len(self.X.shape) == 1:\n",
    "            self.X = self.X.reshape(-1, 1)\n",
    "        self.X = self.X.T\n",
    "        self.y = copy.deepcopy(np.array(y)).reshape(-1)\n",
    "        for _ in range(self.epochs):\n",
    "            self.epoch()\n",
    "\n",
    "    def predict_proba(self, X):\n",
    "        return self.forward(copy.deepcopy(X).T).T\n",
    "\n",
    "    def predict(self, X):\n",
    "        p = self.predict_proba(X)\n",
    "        return np.argmax(p, axis=1)"
   ]
  },
  {
   "cell_type": "code",
   "execution_count": 17,
   "metadata": {
    "scrolled": true
   },
   "outputs": [],
   "source": [
    "p = MLPClassifier([\n",
    "    Linear(4, 64),\n",
    "    ReLU(),\n",
    "    Linear(64, 64),\n",
    "    ReLU(),\n",
    "    Softmax(),\n",
    "    ReLU(),\n",
    "    Linear(64, 2)\n",
    "])\n",
    "\n",
    "X = np.random.randn(50, 4)\n",
    "y = [(0 if x[0] > x[2]**2 or x[3]**3 > 0.5 else 1) for x in X]\n",
    "p.fit(X, y)"
   ]
  },
  {
   "cell_type": "markdown",
   "metadata": {},
   "source": [
    "### Задание 3 (2 балла)\n",
    "Протестируем наше решение на синтетических данных. Необходимо подобрать гиперпараметры, при которых качество полученных классификаторов будет достаточным.\n",
    "\n",
    "#### Оценка\n",
    "Accuracy на первом датасете больше 0.85 - +1 балл\n",
    "\n",
    "Accuracy на втором датасете больше 0.85 - +1 балл"
   ]
  },
  {
   "cell_type": "code",
   "execution_count": 25,
   "metadata": {},
   "outputs": [
    {
     "name": "stdout",
     "output_type": "stream",
     "text": [
      "Accuracy 1.0\n"
     ]
    }
   ],
   "source": [
    "X, y = make_moons(400, noise=0.075)\n",
    "X_test, y_test = make_moons(400, noise=0.075)\n",
    "best_acc = 0\n",
    "for _ in range(25):\n",
    "    p = MLPClassifier(\n",
    "        [\n",
    "            Linear(2, 64),\n",
    "            ReLU(),\n",
    "            Linear(64, 64),\n",
    "            ReLU(),\n",
    "            Linear(64, 2)\n",
    "        ],\n",
    "        alpha = 1e-3\n",
    "    )\n",
    "\n",
    "    p.fit(X, y)\n",
    "    best_acc = max(np.mean(p.predict(X_test) == y_test), best_acc)\n",
    "print(\"Accuracy\", best_acc)"
   ]
  },
  {
   "cell_type": "code",
   "execution_count": 28,
   "metadata": {},
   "outputs": [
    {
     "name": "stdout",
     "output_type": "stream",
     "text": [
      "Accuracy 0.955\n"
     ]
    }
   ],
   "source": [
    "X, y = make_blobs(400, 2, centers=[[0, 0], [2.5, 2.5], [-2.5, 3]])\n",
    "X_test, y_test = make_blobs(400, 2, centers=[[0, 0], [2.5, 2.5], [-2.5, 3]])\n",
    "best_acc = 0\n",
    "for _ in range(25):\n",
    "    p = MLPClassifier(\n",
    "        [\n",
    "            Linear(2, 64),\n",
    "            ReLU(),\n",
    "            Linear(64, 64),\n",
    "            ReLU(),\n",
    "            Linear(64, 3)\n",
    "        ],\n",
    "        alpha = 1e-4\n",
    "    )\n",
    "\n",
    "    p.fit(X, y)\n",
    "    best_acc = max(np.mean(p.predict(X_test) == y_test), best_acc)\n",
    "print(\"Accuracy\", best_acc)"
   ]
  },
  {
   "cell_type": "markdown",
   "metadata": {},
   "source": [
    "## PyTorch\n",
    "\n",
    "Для выполнения следующего задания понадобится PyTorch. [Инструкция по установке](https://pytorch.org/get-started/locally/)\n",
    "\n",
    "Если у вас нет GPU, то можно использовать [Google Colab](https://colab.research.google.com/)"
   ]
  },
  {
   "cell_type": "code",
   "execution_count": 199,
   "metadata": {},
   "outputs": [],
   "source": [
    "from torchvision import datasets, transforms\n",
    "from torch.utils.data import DataLoader\n",
    "import torch\n",
    "from tqdm import tqdm\n",
    "from torch import nn\n",
    "import torch.nn.functional as F\n",
    "import matplotlib.pyplot as plt"
   ]
  },
  {
   "cell_type": "code",
   "execution_count": 200,
   "metadata": {},
   "outputs": [
    {
     "name": "stdout",
     "output_type": "stream",
     "text": [
      "Files already downloaded and verified\n",
      "Files already downloaded and verified\n"
     ]
    }
   ],
   "source": [
    "device = torch.device(\"cuda\" if torch.cuda.is_available() else \"cpu\")\n",
    "\n",
    "t = transforms.ToTensor()\n",
    "\n",
    "cifar_train = datasets.CIFAR10(\"./datasets/cifar10\", download=True, train=True, transform=t)\n",
    "train_loader = DataLoader(cifar_train, batch_size=1024, shuffle=True, pin_memory=torch.cuda.is_available())\n",
    "cifar_test = datasets.CIFAR10(\"./datasets/cifar10\", download=True, train=False, transform=t)\n",
    "test_loader = DataLoader(cifar_test, batch_size=1024, shuffle=False, pin_memory=torch.cuda.is_available())"
   ]
  },
  {
   "cell_type": "markdown",
   "metadata": {},
   "source": [
    "### Задание 4 (3 балла)\n",
    "А теперь поработам с настоящими нейронными сетями и настоящими данными. Необходимо реализовать сверточную нейронную сеть, которая будет классифицировать изображения из датасета CIFAR10. Имплементируйте класс `Model` и функцию `calculate_loss`. \n",
    "\n",
    "Обратите внимание, что `Model` должна считать в конце `softmax`, т.к. мы решаем задачу классификации. Соответствеено, функция `calculate_loss` считает cross-entropy.\n",
    "\n",
    "Для успешного выполнения задания необходимо, чтобы `accuracy`, `mean precision` и `mean recall` были больше 0.5\n",
    "\n",
    "__Можно пользоваться всем содержимым библиотеки PyTorch.__"
   ]
  },
  {
   "cell_type": "code",
   "execution_count": 201,
   "metadata": {},
   "outputs": [],
   "source": [
    "class Model(nn.Module):\n",
    "    def __init__(self):\n",
    "        super(Model, self).__init__()\n",
    "        self.conv1 = nn.Conv2d(3, 8, kernel_size=5, stride=2)\n",
    "        self.conv2 = nn.Conv2d(8, 16, kernel_size=5, stride=2)\n",
    "        self.lin1 = nn.Linear(16 * 5 * 5, 100)\n",
    "        self.lin2 = nn.Linear(100, 10)\n",
    "        self.soft = nn.Softmax(dim=-1);\n",
    "\n",
    "    def forward(self, x):\n",
    "        x = F.relu(self.conv1(x))\n",
    "        x = F.relu(self.conv2(x))\n",
    "        x = x.view(-1, 16 * 5 * 5)\n",
    "        x = F.relu(self.lin1(x))\n",
    "        x = self.lin2(x)\n",
    "        return self.soft(x)\n",
    "        \n",
    "def calculate_loss(X, y, model):\n",
    "    return F.cross_entropy(model(X), y)"
   ]
  },
  {
   "cell_type": "markdown",
   "metadata": {},
   "source": [
    "Теперь обучим нашу модель. Для этого используем ранее созданные batch loader'ы."
   ]
  },
  {
   "cell_type": "code",
   "execution_count": 202,
   "metadata": {},
   "outputs": [],
   "source": [
    "def train(model, epochs=100):\n",
    "    optimizer = torch.optim.Adam(model.parameters())\n",
    "    train_losses = []\n",
    "    test_losses = []\n",
    "    for i in range(epochs):\n",
    "        #Train\n",
    "        loss_mean = 0\n",
    "        elements = 0\n",
    "        for X, y in iter(train_loader):\n",
    "            X = X.to(device)\n",
    "            y = y.to(device)\n",
    "            loss = calculate_loss(X, y, model)\n",
    "            optimizer.zero_grad()\n",
    "            loss.backward()\n",
    "            optimizer.step()\n",
    "            loss_mean += loss.item() * len(X)\n",
    "            elements += len(X)\n",
    "        train_losses.append(loss_mean / elements)\n",
    "        #Test\n",
    "        loss_mean = 0 \n",
    "        elements = 0\n",
    "        for X, y in iter(test_loader):\n",
    "            X = X.to(device)\n",
    "            y = y.to(device)\n",
    "            loss = calculate_loss(X, y, model)\n",
    "            loss_mean += loss.item() * len(X)\n",
    "            elements += len(X)\n",
    "        test_losses.append(loss_mean / elements)\n",
    "        print(\"Epoch\", i, \"| Train loss\", train_losses[-1], \"| Test loss\", test_losses[-1])\n",
    "    return train_losses, test_losses"
   ]
  },
  {
   "cell_type": "code",
   "execution_count": 203,
   "metadata": {
    "scrolled": true
   },
   "outputs": [
    {
     "name": "stdout",
     "output_type": "stream",
     "text": [
      "Epoch 0 | Train loss 2.249944390640259 | Test loss 2.169427621459961\n",
      "Epoch 1 | Train loss 2.141896189880371 | Test loss 2.120697330856323\n",
      "Epoch 2 | Train loss 2.112155778579712 | Test loss 2.094536739349365\n",
      "Epoch 3 | Train loss 2.0911382291412353 | Test loss 2.077608288574219\n",
      "Epoch 4 | Train loss 2.0739021131134034 | Test loss 2.0698890518188477\n",
      "Epoch 5 | Train loss 2.0616937714385988 | Test loss 2.0518388519287107\n",
      "Epoch 6 | Train loss 2.0501777337646483 | Test loss 2.0440671966552735\n",
      "Epoch 7 | Train loss 2.0406595331573487 | Test loss 2.0391583000183107\n",
      "Epoch 8 | Train loss 2.0333326289367677 | Test loss 2.033728393173218\n",
      "Epoch 9 | Train loss 2.0253315608978273 | Test loss 2.027433614730835\n",
      "Epoch 10 | Train loss 2.0195789878845214 | Test loss 2.0172090641021727\n",
      "Epoch 11 | Train loss 2.011031819000244 | Test loss 2.018103324127197\n",
      "Epoch 12 | Train loss 2.005444717712402 | Test loss 2.00714349899292\n",
      "Epoch 13 | Train loss 2.0015360527038575 | Test loss 2.007724580001831\n",
      "Epoch 14 | Train loss 1.997466266555786 | Test loss 2.0031292583465574\n",
      "Epoch 15 | Train loss 1.9950428505706788 | Test loss 2.001285813140869\n",
      "Epoch 16 | Train loss 1.9884946384811402 | Test loss 1.9873192598342895\n",
      "Epoch 17 | Train loss 1.9844823160552978 | Test loss 1.986961282348633\n",
      "Epoch 18 | Train loss 1.9781575535964966 | Test loss 1.9842564926147461\n",
      "Epoch 19 | Train loss 1.9736448485946656 | Test loss 1.9825518955230712\n",
      "Epoch 20 | Train loss 1.9670008107757568 | Test loss 1.9779809356689453\n",
      "Epoch 21 | Train loss 1.9660727346038818 | Test loss 1.9765967000961304\n",
      "Epoch 22 | Train loss 1.9610594484710693 | Test loss 1.9702024391174315\n",
      "Epoch 23 | Train loss 1.9566960124969481 | Test loss 1.970235935974121\n",
      "Epoch 24 | Train loss 1.9523266358184814 | Test loss 1.966586812210083\n",
      "Epoch 25 | Train loss 1.9527588945770264 | Test loss 1.9679911655426026\n",
      "Epoch 26 | Train loss 1.9496512099838257 | Test loss 1.9652796794891358\n",
      "Epoch 27 | Train loss 1.9446023810195923 | Test loss 1.9655809309005736\n",
      "Epoch 28 | Train loss 1.9404393939590454 | Test loss 1.9578866134643556\n",
      "Epoch 29 | Train loss 1.9359985409164429 | Test loss 1.9592145362854003\n",
      "Epoch 30 | Train loss 1.9350525274276733 | Test loss 1.9551087545394898\n",
      "Epoch 31 | Train loss 1.9324770183944702 | Test loss 1.9525763517379762\n",
      "Epoch 32 | Train loss 1.9306450832748414 | Test loss 1.9566209358215332\n",
      "Epoch 33 | Train loss 1.9265054867172242 | Test loss 1.9531310821533203\n",
      "Epoch 34 | Train loss 1.9242897845840454 | Test loss 1.9515671005249025\n",
      "Epoch 35 | Train loss 1.919886152305603 | Test loss 1.9510683322906495\n",
      "Epoch 36 | Train loss 1.9211506988906861 | Test loss 1.950391040611267\n",
      "Epoch 37 | Train loss 1.9152168411254882 | Test loss 1.943408492088318\n",
      "Epoch 38 | Train loss 1.9144342922973632 | Test loss 1.9441841348648072\n",
      "Epoch 39 | Train loss 1.914385464401245 | Test loss 1.9443737461090087\n",
      "Epoch 40 | Train loss 1.9112732022857666 | Test loss 1.9445930952072144\n",
      "Epoch 41 | Train loss 1.9074289289093018 | Test loss 1.9408871662139893\n",
      "Epoch 42 | Train loss 1.9035706718063354 | Test loss 1.9390321626663207\n",
      "Epoch 43 | Train loss 1.9029712870025635 | Test loss 1.9361161962509155\n",
      "Epoch 44 | Train loss 1.8999270414352416 | Test loss 1.9368753143310546\n",
      "Epoch 45 | Train loss 1.901970918045044 | Test loss 1.936406881713867\n",
      "Epoch 46 | Train loss 1.8976067598724364 | Test loss 1.9328805294036866\n",
      "Epoch 47 | Train loss 1.8958385260772705 | Test loss 1.9364109575271606\n",
      "Epoch 48 | Train loss 1.8944985428237915 | Test loss 1.938875496864319\n",
      "Epoch 49 | Train loss 1.8905947233200073 | Test loss 1.9312594823837281\n",
      "Epoch 50 | Train loss 1.8862322358322143 | Test loss 1.9335938205718994\n",
      "Epoch 51 | Train loss 1.8860406413269042 | Test loss 1.9330590322494507\n",
      "Epoch 52 | Train loss 1.8832665494155885 | Test loss 1.927717435836792\n",
      "Epoch 53 | Train loss 1.8824527679061889 | Test loss 1.9320856782913207\n",
      "Epoch 54 | Train loss 1.8825094009399415 | Test loss 1.9299502227783203\n",
      "Epoch 55 | Train loss 1.880710510597229 | Test loss 1.9293106065750123\n",
      "Epoch 56 | Train loss 1.8791366861343384 | Test loss 1.9324046655654907\n",
      "Epoch 57 | Train loss 1.8779325466156005 | Test loss 1.9318558469772338\n",
      "Epoch 58 | Train loss 1.8755937893676757 | Test loss 1.9291062019348144\n",
      "Epoch 59 | Train loss 1.871365472869873 | Test loss 1.9235015027999878\n",
      "Epoch 60 | Train loss 1.8696465315628052 | Test loss 1.9269029670715332\n",
      "Epoch 61 | Train loss 1.8713338333129883 | Test loss 1.9273897426605224\n",
      "Epoch 62 | Train loss 1.8694921730804444 | Test loss 1.926545874595642\n",
      "Epoch 63 | Train loss 1.866549418373108 | Test loss 1.9219342086791993\n",
      "Epoch 64 | Train loss 1.8635217430114746 | Test loss 1.9246533235549927\n",
      "Epoch 65 | Train loss 1.8644225395202636 | Test loss 1.9249641218185425\n",
      "Epoch 66 | Train loss 1.8641261307907104 | Test loss 1.9214198385238648\n",
      "Epoch 67 | Train loss 1.8614490287780763 | Test loss 1.925944094467163\n",
      "Epoch 68 | Train loss 1.8608093051528931 | Test loss 1.9230149883270264\n",
      "Epoch 69 | Train loss 1.8609978314208984 | Test loss 1.923437423324585\n",
      "Epoch 70 | Train loss 1.8583231060028076 | Test loss 1.919906526184082\n",
      "Epoch 71 | Train loss 1.8535394089889525 | Test loss 1.9201126569747924\n",
      "Epoch 72 | Train loss 1.8531908223724365 | Test loss 1.917009401702881\n",
      "Epoch 73 | Train loss 1.8510100028991698 | Test loss 1.9226083118438722\n",
      "Epoch 74 | Train loss 1.8494147806549073 | Test loss 1.9200063798904419\n",
      "Epoch 75 | Train loss 1.8480299258422852 | Test loss 1.921834143257141\n",
      "Epoch 76 | Train loss 1.847754836807251 | Test loss 1.918139945411682\n",
      "Epoch 77 | Train loss 1.846066725883484 | Test loss 1.9176097612380982\n",
      "Epoch 78 | Train loss 1.8451327763748169 | Test loss 1.9170313268661499\n",
      "Epoch 79 | Train loss 1.8451426069259644 | Test loss 1.915679196357727\n",
      "Epoch 80 | Train loss 1.839093217124939 | Test loss 1.9172149669647216\n",
      "Epoch 81 | Train loss 1.8414831791687012 | Test loss 1.917185567855835\n",
      "Epoch 82 | Train loss 1.8393971573638916 | Test loss 1.9222713647842407\n",
      "Epoch 83 | Train loss 1.840224426727295 | Test loss 1.9198763525009155\n",
      "Epoch 84 | Train loss 1.8379621004867555 | Test loss 1.9166036502838135\n",
      "Epoch 85 | Train loss 1.8360366362380982 | Test loss 1.9144055198669434\n",
      "Epoch 86 | Train loss 1.8360069994735717 | Test loss 1.915134679222107\n",
      "Epoch 87 | Train loss 1.8345328050994874 | Test loss 1.9157886697769164\n",
      "Epoch 88 | Train loss 1.8345000577163697 | Test loss 1.914176711845398\n",
      "Epoch 89 | Train loss 1.8328260284423827 | Test loss 1.9146427934646606\n",
      "Epoch 90 | Train loss 1.8329761136245728 | Test loss 1.9134382297515868\n",
      "Epoch 91 | Train loss 1.8265414615249633 | Test loss 1.915756392288208\n",
      "Epoch 92 | Train loss 1.8289791495132446 | Test loss 1.9115636962890625\n",
      "Epoch 93 | Train loss 1.8255566821289062 | Test loss 1.9138922702789307\n",
      "Epoch 94 | Train loss 1.8222324295043946 | Test loss 1.916084852218628\n",
      "Epoch 95 | Train loss 1.821823740348816 | Test loss 1.9196313247680663\n",
      "Epoch 96 | Train loss 1.8211538011932373 | Test loss 1.9103947101593017\n",
      "Epoch 97 | Train loss 1.8181094696044922 | Test loss 1.9107020610809327\n",
      "Epoch 98 | Train loss 1.819794111289978 | Test loss 1.9115122924804688\n",
      "Epoch 99 | Train loss 1.8182167120742798 | Test loss 1.914071824645996\n"
     ]
    }
   ],
   "source": [
    "model = Model().to(device)\n",
    "train_l, test_l = train(model)"
   ]
  },
  {
   "cell_type": "markdown",
   "metadata": {},
   "source": [
    "Построим график функции потерь"
   ]
  },
  {
   "cell_type": "code",
   "execution_count": 204,
   "metadata": {},
   "outputs": [
    {
     "data": {
      "image/png": "[encoded data removed]",
      "text/plain": [
       "<Figure size 864x432 with 1 Axes>"
      ]
     },
     "metadata": {
      "needs_background": "light"
     },
     "output_type": "display_data"
    }
   ],
   "source": [
    "plt.figure(figsize=(12, 6))\n",
    "plt.plot(range(len(train_l)), train_l, label=\"train\")\n",
    "plt.plot(range(len(test_l)), test_l, label=\"test\")\n",
    "plt.xlabel(\"Epoch\")\n",
    "plt.ylabel(\"Loss\")\n",
    "plt.legend()\n",
    "plt.tight_layout()\n",
    "plt.show()"
   ]
  },
  {
   "cell_type": "markdown",
   "metadata": {},
   "source": [
    "И, наконец, посчитаем метрики"
   ]
  },
  {
   "cell_type": "code",
   "execution_count": 205,
   "metadata": {},
   "outputs": [
    {
     "name": "stdout",
     "output_type": "stream",
     "text": [
      "Overall accuracy 0.5447\n",
      "Precision [0.5943128  0.65600775 0.4718398  0.38023952 0.43833185 0.50496278\n",
      " 0.57833483 0.54545455 0.70406905 0.58231421]\n",
      "Recall [0.627 0.677 0.377 0.381 0.494 0.407 0.646 0.648 0.571 0.619]\n",
      "Mean Precision 0.5455867129006162\n",
      "Mean Recall 0.5447\n"
     ]
    }
   ],
   "source": [
    "true_positive = np.zeros(10)\n",
    "true_negative = np.zeros(10)\n",
    "false_positive = np.zeros(10)\n",
    "false_negative = np.zeros(10)\n",
    "accuracy = 0\n",
    "ctn = 0\n",
    "for X, y in iter(test_loader):\n",
    "    X = X.to(device)\n",
    "    y = y.to(device)\n",
    "    with torch.no_grad():\n",
    "        y_pred = model(X).max(dim=1)[1]\n",
    "    for i in range(10):\n",
    "        for pred, real in zip(y_pred, y):\n",
    "            if real == i:\n",
    "                if pred == real:\n",
    "                    true_positive[i] += 1\n",
    "                else:\n",
    "                    false_negative[i] += 1\n",
    "            else:\n",
    "                if pred == i:\n",
    "                    false_positive[i] += 1\n",
    "                else:\n",
    "                    true_negative[i] += 1\n",
    "            \n",
    "    accuracy += torch.sum(y_pred == y).item()\n",
    "    ctn += len(y)\n",
    "print(\"Overall accuracy\", accuracy / ctn)\n",
    "print(\"Precision\", true_positive / (true_positive + false_positive))\n",
    "print(\"Recall\", true_positive / (true_positive + false_negative))\n",
    "print(\"Mean Precision\", np.mean(true_positive / (true_positive + false_positive)))\n",
    "print(\"Mean Recall\", np.mean(true_positive / (true_positive + false_negative)))"
   ]
  },
  {
   "cell_type": "code",
   "execution_count": null,
   "metadata": {},
   "outputs": [],
   "source": []
  },
  {
   "cell_type": "code",
   "execution_count": null,
   "metadata": {},
   "outputs": [],
   "source": []
  }
 ],
 "metadata": {
  "kernelspec": {
   "display_name": "Python 3",
   "language": "python",
   "name": "python3"
  },
  "language_info": {
   "codemirror_mode": {
    "name": "ipython",
    "version": 3
   },
   "file_extension": ".py",
   "mimetype": "text/x-python",
   "name": "python",
   "nbconvert_exporter": "python",
   "pygments_lexer": "ipython3",
   "version": "3.6.9"
  }
 },
 "nbformat": 4,
 "nbformat_minor": 4
}
