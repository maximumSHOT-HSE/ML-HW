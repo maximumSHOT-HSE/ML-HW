{
 "cells": [
  {
   "cell_type": "markdown",
   "metadata": {},
   "source": [
    "# SVM и его ядра\n",
    "__Суммарное количество баллов: 9__\n",
    "\n",
    "__Решение отправлять на `ml.course.practice@gmail.com`__\n",
    "\n",
    "__Тема письма: `[ML][HW07] <ФИ>`, где вместо `<ФИ>` указаны фамилия и имя__\n",
    "\n",
    "В этом задании нам предстоит решить задачу SVM при помощи `cvxopt` и применить ее к искуственным данным. Затем аналогичным способом нужно будет решить задачу ядерного SVM и исследовать его поведение для различных ядер и значений их параметров."
   ]
  },
  {
   "cell_type": "code",
   "execution_count": null,
   "metadata": {},
   "outputs": [],
   "source": [
    "import numpy as np\n",
    "import copy\n",
    "from cvxopt import spmatrix, matrix, solvers\n",
    "import matplotlib.pyplot as plt\n",
    "from sklearn.datasets import make_classification, make_moons, make_blobs\n",
    "\n",
    "solvers.options['show_progress'] = False"
   ]
  },
  {
   "cell_type": "code",
   "execution_count": null,
   "metadata": {},
   "outputs": [],
   "source": [
    "def visualize(clf, X, y):\n",
    "    x_min, x_max = X[:, 0].min(), X[:, 0].max()\n",
    "    y_min, y_max = X[:, 1].min(), X[:, 1].max()\n",
    "    x_border = (x_max - x_min) / 20 + 1.0e-3\n",
    "    x_h = (x_max - x_min + 2 * x_border) / 200\n",
    "    y_border = (y_max - y_min) / 20 + 1.0e-3\n",
    "    y_h = (y_max - y_min + 2 * y_border) / 200\n",
    "    \n",
    "    cm = plt.cm.Spectral\n",
    "\n",
    "    xx, yy = np.meshgrid(np.arange(x_min - x_border, x_max + x_border, x_h), np.arange(y_min - y_border, y_max + y_border, y_h))\n",
    "    mesh = np.c_[xx.ravel(), yy.ravel()]\n",
    "\n",
    "    z_class = clf.predict(mesh).reshape(xx.shape)\n",
    "\n",
    "    # Put the result into a color plot\n",
    "    plt.figure(1, figsize=(8, 8))\n",
    "    plt.pcolormesh(xx, yy, z_class, cmap=cm, alpha=0.3, shading='gouraud')\n",
    "\n",
    "    # Plot hyperplane and margin\n",
    "    z_dist = clf.decision_function(mesh).reshape(xx.shape)\n",
    "    plt.contour(xx, yy, z_dist, [0.0], colors='black')\n",
    "    plt.contour(xx, yy, z_dist, [-1.0, 1.0], colors='black', linestyles='dashed')\n",
    "\n",
    "    # Plot also the training points\n",
    "    y_pred = clf.predict(X)\n",
    "\n",
    "    ind_support = []\n",
    "    ind_correct = []\n",
    "    ind_incorrect = []\n",
    "    for i in range(len(y)):\n",
    "        if i in clf.support:\n",
    "            ind_support.append(i)\n",
    "        elif y[i] == y_pred[i]:\n",
    "            ind_correct.append(i)\n",
    "        else:\n",
    "            ind_incorrect.append(i)\n",
    "\n",
    "    plt.scatter(X[ind_correct, 0], X[ind_correct, 1], c=y[ind_correct], cmap=cm, alpha=1., edgecolor='black', linewidth=.8)\n",
    "    plt.scatter(X[ind_incorrect, 0], X[ind_incorrect, 1], c=y[ind_incorrect], cmap=cm, alpha=1., marker='*',\n",
    "               s=50, edgecolor='black', linewidth=.8)\n",
    "    plt.scatter(X[ind_support, 0], X[ind_support, 1], c=y[ind_support], cmap=cm, alpha=1., edgecolor='yellow', linewidths=1.,\n",
    "               s=40)\n",
    "\n",
    "    plt.xlim(xx.min(), xx.max())\n",
    "    plt.ylim(yy.min(), yy.max())\n",
    "    plt.tight_layout()"
   ]
  },
  {
   "cell_type": "code",
   "execution_count": null,
   "metadata": {},
   "outputs": [],
   "source": [
    "def generate_dataset(moons=False):\n",
    "    if moons:\n",
    "        X, y = make_moons(1000, noise=0.075, random_state=42)\n",
    "        return X, 2 * y - 1\n",
    "    X, y = make_blobs(1000, 2, centers=[[0, 0], [-4, 2], [3.5, -2.0], [3.5, 3.5]], random_state=42)\n",
    "    y = 2 * (y % 2) - 1\n",
    "    return X, y\n",
    "    #return make_classification(1000, 2, 2, 0, flip_y=0.001, class_sep=1.2, scale=0.9, random_state=42)\n",
    "\n",
    "X, y = generate_dataset(True)"
   ]
  },
  {
   "cell_type": "markdown",
   "metadata": {},
   "source": [
    "### Задание 1 (2 балла)\n",
    "Для начала реализуем обычный линейный SVM. \n",
    "\n",
    "#### Методы\n",
    "`fit(X, y)` - обучает SVM, решая задачу оптимизации при помощи `cvxopt.solvers.qp`\n",
    "\n",
    "`decision_function(X)` - возвращает значение решающей функции (т.е. то число, от которого берем знак с целью узнать класс)\n",
    "\n",
    "#### Поля\n",
    "`support` - индексы опорных элементов"
   ]
  },
  {
   "cell_type": "code",
   "execution_count": null,
   "metadata": {},
   "outputs": [],
   "source": [
    "class LinearSVM:\n",
    "    def __init__(self, C):\n",
    "        self.C = C\n",
    "        self.support = None\n",
    "\n",
    "    def fit(self, X, y):\n",
    "        pass\n",
    "\n",
    "    def decision_function(self, X):\n",
    "        pass\n",
    "\n",
    "    def predict(self, X):\n",
    "        return np.sign(self.decision_function(X))"
   ]
  },
  {
   "cell_type": "code",
   "execution_count": null,
   "metadata": {},
   "outputs": [],
   "source": [
    "X, y = generate_dataset(True)\n",
    "svm = LinearSVM(1)\n",
    "svm.fit(X, y)\n",
    "visualize(svm, X, y)\n",
    "plt.show()"
   ]
  },
  {
   "cell_type": "code",
   "execution_count": null,
   "metadata": {},
   "outputs": [],
   "source": [
    "X, y = generate_dataset(False)\n",
    "svm = LinearSVM(1)\n",
    "svm.fit(X, y)\n",
    "visualize(svm, X, y)\n",
    "plt.show()"
   ]
  },
  {
   "cell_type": "markdown",
   "metadata": {},
   "source": [
    "### Задание 2 (2 балла)\n",
    "Перед реализацией ядерного SVM, реализуем функции, которые строят ядра.\n",
    "\n",
    "#### Описание\n",
    "`get_polynomial_kernel(power)` - возвращает полиномиальное ядро с заданной константой и степенью\n",
    "\n",
    "`get_gaussian_kernel(sigma=1.)` - возвращает ядро Гаусса с заданным коэффицинтом сигма"
   ]
  },
  {
   "cell_type": "code",
   "execution_count": null,
   "metadata": {},
   "outputs": [],
   "source": [
    "def get_polynomial_kernel(c=1, power=2):\n",
    "    pass\n",
    "\n",
    "def get_gaussian_kernel(sigma=1.):\n",
    "    pass"
   ]
  },
  {
   "cell_type": "markdown",
   "metadata": {},
   "source": [
    "### Задание 3 (2 балла)\n",
    "Теперь перейдем к реализации самого kernel SVM.\n",
    "\n",
    "#### Описание\n",
    "`fit(X, y)` - обучает kernel SVM, решая задачу оптимизации при помощи `cvxopt.solvers.qp`\n",
    "\n",
    "`decision_function(X)` - возвращает значение решающей функции (т.е. то число, от которого берем знак с целью узнать класс)\n",
    "\n",
    "#### Конструктор\n",
    "`kernel` - ядро-функция"
   ]
  },
  {
   "cell_type": "code",
   "execution_count": null,
   "metadata": {},
   "outputs": [],
   "source": [
    "class KernelSVM:\n",
    "    def __init__(self, C, kernel=linear_kernel):\n",
    "        self.C = C\n",
    "        self.kernel = kernel\n",
    "        self.support = None\n",
    "\n",
    "    def fit(self, X, y):\n",
    "        pass\n",
    "\n",
    "    def decision_function(self, X):\n",
    "        pass\n",
    "\n",
    "    def predict(self, X):\n",
    "        return np.sign(self.decision_function(X))"
   ]
  },
  {
   "cell_type": "code",
   "execution_count": null,
   "metadata": {
    "scrolled": false
   },
   "outputs": [],
   "source": [
    "X, y = generate_dataset(True)\n",
    "svm = KernelSVM(1, kernel=get_polynomial_kernel(1, 3))\n",
    "svm.fit(X, y)\n",
    "visualize(svm, X, y)\n",
    "plt.show()"
   ]
  },
  {
   "cell_type": "code",
   "execution_count": null,
   "metadata": {},
   "outputs": [],
   "source": [
    "X, y = generate_dataset(False)\n",
    "svm = KernelSVM(1, kernel=get_polynomial_kernel(1, 3))\n",
    "svm.fit(X, y)\n",
    "visualize(svm, X, y)\n",
    "plt.show()"
   ]
  },
  {
   "cell_type": "code",
   "execution_count": null,
   "metadata": {
    "scrolled": false
   },
   "outputs": [],
   "source": [
    "X, y = generate_dataset(True)\n",
    "svm = KernelSVM(1, kernel=get_gaussian_kernel(0.4))\n",
    "svm.fit(X, y)\n",
    "visualize(svm, X, y)\n",
    "plt.show()"
   ]
  },
  {
   "cell_type": "code",
   "execution_count": null,
   "metadata": {},
   "outputs": [],
   "source": [
    "X, y = generate_dataset(False)\n",
    "svm = KernelSVM(1, kernel=get_gaussian_kernel(0.4))\n",
    "svm.fit(X, y)\n",
    "visualize(svm, X, y)\n",
    "plt.show()"
   ]
  },
  {
   "cell_type": "markdown",
   "metadata": {},
   "source": [
    "### Задание 4 (3 балла)\n",
    "Исследуйте и опишите влияние параметров каждого вида ядра на полученный классификатор. Что происходит при увеличении константы в полиномиальном ядре? При увеличении степени? Как влияет на результат сигма в ядре Гаусса?\n",
    "\n",
    "__При выполнении этого задания стоит написать код, который визуализирует классификаторы с различными ядрами__"
   ]
  },
  {
   "cell_type": "code",
   "execution_count": null,
   "metadata": {},
   "outputs": [],
   "source": []
  },
  {
   "cell_type": "code",
   "execution_count": null,
   "metadata": {},
   "outputs": [],
   "source": []
  },
  {
   "cell_type": "code",
   "execution_count": null,
   "metadata": {},
   "outputs": [],
   "source": []
  }
 ],
 "metadata": {
  "kernelspec": {
   "display_name": "Python 3",
   "language": "python",
   "name": "python3"
  },
  "language_info": {
   "codemirror_mode": {
    "name": "ipython",
    "version": 3
   },
   "file_extension": ".py",
   "mimetype": "text/x-python",
   "name": "python",
   "nbconvert_exporter": "python",
   "pygments_lexer": "ipython3",
   "version": "3.7.3"
  }
 },
 "nbformat": 4,
 "nbformat_minor": 2
}
